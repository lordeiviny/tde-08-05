{
  "nbformat": 4,
  "nbformat_minor": 0,
  "metadata": {
    "colab": {
      "provenance": [],
      "include_colab_link": true
    },
    "kernelspec": {
      "name": "python3",
      "display_name": "Python 3"
    },
    "language_info": {
      "name": "python"
    }
  },
  "cells": [
    {
      "cell_type": "markdown",
      "metadata": {
        "id": "view-in-github",
        "colab_type": "text"
      },
      "source": [
        "<a href=\"https://colab.research.google.com/github/lordeiviny/tde-08-05/blob/main/TDE2.ipynb\" target=\"_parent\"><img src=\"https://colab.research.google.com/assets/colab-badge.svg\" alt=\"Open In Colab\"/></a>"
      ]
    },
    {
      "cell_type": "markdown",
      "source": [
        "Importamos a biblioteca pandas.\n",
        "Atribuimos a variável df o DataFrame resultante do método read_csv do pandas. \n",
        "O método read_csv lê arquivos csv o os converte em DataFrame."
      ],
      "metadata": {
        "id": "JWMSmKvlQuxk"
      }
    },
    {
      "cell_type": "markdown",
      "source": [],
      "metadata": {
        "id": "_UrwRCZyK-WE"
      }
    },
    {
      "cell_type": "code",
      "execution_count": 4,
      "metadata": {
        "id": "OY-ACwRvyuPu"
      },
      "outputs": [],
      "source": [
        "import pandas as pd\n",
        "df = pd.read_csv('baseBancoDigital.csv', sep = ';')"
      ]
    },
    {
      "cell_type": "markdown",
      "source": [
        "##Responda:\n",
        "###Qual tipo de fonte de dados estamos utilizando neste projeto?"
      ],
      "metadata": {
        "id": "mHtSiLBPE-fK"
      }
    },
    {
      "cell_type": "markdown",
      "source": [
        "data frame"
      ],
      "metadata": {
        "id": "Lg9HZ5NDV5ll"
      }
    },
    {
      "cell_type": "markdown",
      "source": [],
      "metadata": {
        "id": "Vf5U-VBwVs-y"
      }
    },
    {
      "cell_type": "markdown",
      "source": [
        "Vererifique o tipo abaixo é DataFrame"
      ],
      "metadata": {
        "id": "4t5EU2w9RPIZ"
      }
    },
    {
      "cell_type": "code",
      "source": [
        "print(type(df))"
      ],
      "metadata": {
        "id": "ukx0TJL0y1Cd",
        "colab": {
          "base_uri": "https://localhost:8080/"
        },
        "outputId": "084ce9b4-ce63-4a26-c32e-2f4526e756be"
      },
      "execution_count": 16,
      "outputs": [
        {
          "output_type": "stream",
          "name": "stdout",
          "text": [
            "<class 'pandas.core.frame.DataFrame'>\n"
          ]
        }
      ]
    },
    {
      "cell_type": "markdown",
      "source": [
        "###Execute o código abaixo:"
      ],
      "metadata": {
        "id": "NttMQow7EdZH"
      }
    },
    {
      "cell_type": "code",
      "source": [
        "df.head()"
      ],
      "metadata": {
        "id": "rGZEQPGWzx2c",
        "colab": {
          "base_uri": "https://localhost:8080/",
          "height": 206
        },
        "outputId": "78c499a1-84ba-4129-a6bb-b576db85c72b"
      },
      "execution_count": 6,
      "outputs": [
        {
          "output_type": "execute_result",
          "data": {
            "text/plain": [
              "   Id  Score Estado    Genero  Idade  Patrimonio     Saldo  Produtos  \\\n",
              "0   1    619     RS  Feminino     42           2         0         1   \n",
              "1   2    608     SC  Feminino     41           1   8380786         1   \n",
              "2   3    502     RS  Feminino     42           8   1596608         3   \n",
              "3   4    699     RS  Feminino     39           1         0         2   \n",
              "4   5    850     SC  Feminino     43           2  12551082         1   \n",
              "\n",
              "   TemCartCredito  Ativo     Salario  Saiu  \n",
              "0               1      1  10134888.0     1  \n",
              "1               0      1  11254258.0     0  \n",
              "2               1      0  11393157.0     1  \n",
              "3               0      0   9382663.0     0  \n",
              "4               1      1    790841.0     0  "
            ],
            "text/html": [
              "\n",
              "  <div id=\"df-fef4f3fb-5846-4c8b-822a-86a19dbdfedc\">\n",
              "    <div class=\"colab-df-container\">\n",
              "      <div>\n",
              "<style scoped>\n",
              "    .dataframe tbody tr th:only-of-type {\n",
              "        vertical-align: middle;\n",
              "    }\n",
              "\n",
              "    .dataframe tbody tr th {\n",
              "        vertical-align: top;\n",
              "    }\n",
              "\n",
              "    .dataframe thead th {\n",
              "        text-align: right;\n",
              "    }\n",
              "</style>\n",
              "<table border=\"1\" class=\"dataframe\">\n",
              "  <thead>\n",
              "    <tr style=\"text-align: right;\">\n",
              "      <th></th>\n",
              "      <th>Id</th>\n",
              "      <th>Score</th>\n",
              "      <th>Estado</th>\n",
              "      <th>Genero</th>\n",
              "      <th>Idade</th>\n",
              "      <th>Patrimonio</th>\n",
              "      <th>Saldo</th>\n",
              "      <th>Produtos</th>\n",
              "      <th>TemCartCredito</th>\n",
              "      <th>Ativo</th>\n",
              "      <th>Salario</th>\n",
              "      <th>Saiu</th>\n",
              "    </tr>\n",
              "  </thead>\n",
              "  <tbody>\n",
              "    <tr>\n",
              "      <th>0</th>\n",
              "      <td>1</td>\n",
              "      <td>619</td>\n",
              "      <td>RS</td>\n",
              "      <td>Feminino</td>\n",
              "      <td>42</td>\n",
              "      <td>2</td>\n",
              "      <td>0</td>\n",
              "      <td>1</td>\n",
              "      <td>1</td>\n",
              "      <td>1</td>\n",
              "      <td>10134888.0</td>\n",
              "      <td>1</td>\n",
              "    </tr>\n",
              "    <tr>\n",
              "      <th>1</th>\n",
              "      <td>2</td>\n",
              "      <td>608</td>\n",
              "      <td>SC</td>\n",
              "      <td>Feminino</td>\n",
              "      <td>41</td>\n",
              "      <td>1</td>\n",
              "      <td>8380786</td>\n",
              "      <td>1</td>\n",
              "      <td>0</td>\n",
              "      <td>1</td>\n",
              "      <td>11254258.0</td>\n",
              "      <td>0</td>\n",
              "    </tr>\n",
              "    <tr>\n",
              "      <th>2</th>\n",
              "      <td>3</td>\n",
              "      <td>502</td>\n",
              "      <td>RS</td>\n",
              "      <td>Feminino</td>\n",
              "      <td>42</td>\n",
              "      <td>8</td>\n",
              "      <td>1596608</td>\n",
              "      <td>3</td>\n",
              "      <td>1</td>\n",
              "      <td>0</td>\n",
              "      <td>11393157.0</td>\n",
              "      <td>1</td>\n",
              "    </tr>\n",
              "    <tr>\n",
              "      <th>3</th>\n",
              "      <td>4</td>\n",
              "      <td>699</td>\n",
              "      <td>RS</td>\n",
              "      <td>Feminino</td>\n",
              "      <td>39</td>\n",
              "      <td>1</td>\n",
              "      <td>0</td>\n",
              "      <td>2</td>\n",
              "      <td>0</td>\n",
              "      <td>0</td>\n",
              "      <td>9382663.0</td>\n",
              "      <td>0</td>\n",
              "    </tr>\n",
              "    <tr>\n",
              "      <th>4</th>\n",
              "      <td>5</td>\n",
              "      <td>850</td>\n",
              "      <td>SC</td>\n",
              "      <td>Feminino</td>\n",
              "      <td>43</td>\n",
              "      <td>2</td>\n",
              "      <td>12551082</td>\n",
              "      <td>1</td>\n",
              "      <td>1</td>\n",
              "      <td>1</td>\n",
              "      <td>790841.0</td>\n",
              "      <td>0</td>\n",
              "    </tr>\n",
              "  </tbody>\n",
              "</table>\n",
              "</div>\n",
              "      <button class=\"colab-df-convert\" onclick=\"convertToInteractive('df-fef4f3fb-5846-4c8b-822a-86a19dbdfedc')\"\n",
              "              title=\"Convert this dataframe to an interactive table.\"\n",
              "              style=\"display:none;\">\n",
              "        \n",
              "  <svg xmlns=\"http://www.w3.org/2000/svg\" height=\"24px\"viewBox=\"0 0 24 24\"\n",
              "       width=\"24px\">\n",
              "    <path d=\"M0 0h24v24H0V0z\" fill=\"none\"/>\n",
              "    <path d=\"M18.56 5.44l.94 2.06.94-2.06 2.06-.94-2.06-.94-.94-2.06-.94 2.06-2.06.94zm-11 1L8.5 8.5l.94-2.06 2.06-.94-2.06-.94L8.5 2.5l-.94 2.06-2.06.94zm10 10l.94 2.06.94-2.06 2.06-.94-2.06-.94-.94-2.06-.94 2.06-2.06.94z\"/><path d=\"M17.41 7.96l-1.37-1.37c-.4-.4-.92-.59-1.43-.59-.52 0-1.04.2-1.43.59L10.3 9.45l-7.72 7.72c-.78.78-.78 2.05 0 2.83L4 21.41c.39.39.9.59 1.41.59.51 0 1.02-.2 1.41-.59l7.78-7.78 2.81-2.81c.8-.78.8-2.07 0-2.86zM5.41 20L4 18.59l7.72-7.72 1.47 1.35L5.41 20z\"/>\n",
              "  </svg>\n",
              "      </button>\n",
              "      \n",
              "  <style>\n",
              "    .colab-df-container {\n",
              "      display:flex;\n",
              "      flex-wrap:wrap;\n",
              "      gap: 12px;\n",
              "    }\n",
              "\n",
              "    .colab-df-convert {\n",
              "      background-color: #E8F0FE;\n",
              "      border: none;\n",
              "      border-radius: 50%;\n",
              "      cursor: pointer;\n",
              "      display: none;\n",
              "      fill: #1967D2;\n",
              "      height: 32px;\n",
              "      padding: 0 0 0 0;\n",
              "      width: 32px;\n",
              "    }\n",
              "\n",
              "    .colab-df-convert:hover {\n",
              "      background-color: #E2EBFA;\n",
              "      box-shadow: 0px 1px 2px rgba(60, 64, 67, 0.3), 0px 1px 3px 1px rgba(60, 64, 67, 0.15);\n",
              "      fill: #174EA6;\n",
              "    }\n",
              "\n",
              "    [theme=dark] .colab-df-convert {\n",
              "      background-color: #3B4455;\n",
              "      fill: #D2E3FC;\n",
              "    }\n",
              "\n",
              "    [theme=dark] .colab-df-convert:hover {\n",
              "      background-color: #434B5C;\n",
              "      box-shadow: 0px 1px 3px 1px rgba(0, 0, 0, 0.15);\n",
              "      filter: drop-shadow(0px 1px 2px rgba(0, 0, 0, 0.3));\n",
              "      fill: #FFFFFF;\n",
              "    }\n",
              "  </style>\n",
              "\n",
              "      <script>\n",
              "        const buttonEl =\n",
              "          document.querySelector('#df-fef4f3fb-5846-4c8b-822a-86a19dbdfedc button.colab-df-convert');\n",
              "        buttonEl.style.display =\n",
              "          google.colab.kernel.accessAllowed ? 'block' : 'none';\n",
              "\n",
              "        async function convertToInteractive(key) {\n",
              "          const element = document.querySelector('#df-fef4f3fb-5846-4c8b-822a-86a19dbdfedc');\n",
              "          const dataTable =\n",
              "            await google.colab.kernel.invokeFunction('convertToInteractive',\n",
              "                                                     [key], {});\n",
              "          if (!dataTable) return;\n",
              "\n",
              "          const docLinkHtml = 'Like what you see? Visit the ' +\n",
              "            '<a target=\"_blank\" href=https://colab.research.google.com/notebooks/data_table.ipynb>data table notebook</a>'\n",
              "            + ' to learn more about interactive tables.';\n",
              "          element.innerHTML = '';\n",
              "          dataTable['output_type'] = 'display_data';\n",
              "          await google.colab.output.renderOutput(dataTable, element);\n",
              "          const docLink = document.createElement('div');\n",
              "          docLink.innerHTML = docLinkHtml;\n",
              "          element.appendChild(docLink);\n",
              "        }\n",
              "      </script>\n",
              "    </div>\n",
              "  </div>\n",
              "  "
            ]
          },
          "metadata": {},
          "execution_count": 6
        }
      ]
    },
    {
      "cell_type": "markdown",
      "source": [
        "##Responda:\n",
        "### O que faz o método head()?"
      ],
      "metadata": {
        "id": "nqVqPZKAD0e7"
      }
    },
    {
      "cell_type": "markdown",
      "source": [
        "ele permite visualizar as primeiras linhas de um data frame\n"
      ],
      "metadata": {
        "id": "y082wdUzRWmD"
      }
    },
    {
      "cell_type": "markdown",
      "source": [
        "Podemos isolar uma coluna específica do DataFrame, veja:\n",
        "\n"
      ],
      "metadata": {
        "id": "vy0tUwoFU6hZ"
      }
    },
    {
      "cell_type": "code",
      "source": [
        "df['Estado']"
      ],
      "metadata": {
        "id": "i4MMpPZeUonm",
        "colab": {
          "base_uri": "https://localhost:8080/"
        },
        "outputId": "c4b10869-052e-4a00-d294-ffb95c014b11"
      },
      "execution_count": 13,
      "outputs": [
        {
          "output_type": "execute_result",
          "data": {
            "text/plain": [
              "0      RS\n",
              "1      SC\n",
              "2      RS\n",
              "3      RS\n",
              "4      SC\n",
              "       ..\n",
              "994    SC\n",
              "995    SC\n",
              "996    SC\n",
              "997    SC\n",
              "998    PR\n",
              "Name: Estado, Length: 999, dtype: object"
            ]
          },
          "metadata": {},
          "execution_count": 13
        }
      ]
    },
    {
      "cell_type": "markdown",
      "source": [
        "O método describe() exibe as variáveis estatísticas da coluna selecionada no DataFrame.\n",
        "\n"
      ],
      "metadata": {
        "id": "rHQKz-8mSSnu"
      }
    },
    {
      "cell_type": "code",
      "source": [
        "df['Estado'].describe()"
      ],
      "metadata": {
        "id": "fXrUwU2BBy0k",
        "colab": {
          "base_uri": "https://localhost:8080/"
        },
        "outputId": "ea9ff09f-97a3-476b-a1b1-9ec39a3006e1"
      },
      "execution_count": 14,
      "outputs": [
        {
          "output_type": "execute_result",
          "data": {
            "text/plain": [
              "count     999\n",
              "unique      6\n",
              "top        RS\n",
              "freq      478\n",
              "Name: Estado, dtype: object"
            ]
          },
          "metadata": {},
          "execution_count": 14
        }
      ]
    },
    {
      "cell_type": "markdown",
      "source": [
        "###Interpretando os dados acima:\n",
        "\n",
        "count: número de linhas do dataframe\n",
        "\n",
        "unique: quantidade de valores distintos da coluna Estado\n",
        "\n",
        "top: valor com maior recorrência na coluna Estado\n",
        "\n",
        "freq: quantidade de vezes que o top se repete\n",
        "\n",
        "Name: nome da coluna\n",
        "\n",
        "dtype: tipo de dado que a coluna recebe"
      ],
      "metadata": {
        "id": "wE6vcj5sFjcf"
      }
    },
    {
      "cell_type": "markdown",
      "source": [
        "##Execute o método abaixo: \n",
        "O método info() exibe o nome das colunas do dataframe."
      ],
      "metadata": {
        "id": "MgJQEznKT_DX"
      }
    },
    {
      "cell_type": "markdown",
      "source": [],
      "metadata": {
        "id": "ia-nIYcCNauD"
      }
    },
    {
      "cell_type": "code",
      "source": [
        "df.info()"
      ],
      "metadata": {
        "id": "TBhQeRANS2e9",
        "colab": {
          "base_uri": "https://localhost:8080/"
        },
        "outputId": "bf4dfa41-4af8-4c9a-9b35-cbce081b33bc"
      },
      "execution_count": 17,
      "outputs": [
        {
          "output_type": "stream",
          "name": "stdout",
          "text": [
            "<class 'pandas.core.frame.DataFrame'>\n",
            "RangeIndex: 999 entries, 0 to 998\n",
            "Data columns (total 12 columns):\n",
            " #   Column          Non-Null Count  Dtype  \n",
            "---  ------          --------------  -----  \n",
            " 0   Id              999 non-null    int64  \n",
            " 1   Score           999 non-null    int64  \n",
            " 2   Estado          999 non-null    object \n",
            " 3   Genero          991 non-null    object \n",
            " 4   Idade           999 non-null    int64  \n",
            " 5   Patrimonio      999 non-null    int64  \n",
            " 6   Saldo           999 non-null    int64  \n",
            " 7   Produtos        999 non-null    int64  \n",
            " 8   TemCartCredito  999 non-null    int64  \n",
            " 9   Ativo           999 non-null    int64  \n",
            " 10  Salario         992 non-null    float64\n",
            " 11  Saiu            999 non-null    int64  \n",
            "dtypes: float64(1), int64(9), object(2)\n",
            "memory usage: 93.8+ KB\n"
          ]
        }
      ]
    },
    {
      "cell_type": "markdown",
      "source": [
        "##Execute o código abaixo:\n",
        "O método hist() exibe um histograma dos dados numéricos do dataframe."
      ],
      "metadata": {
        "id": "ArEj1Le3UHxg"
      }
    },
    {
      "cell_type": "markdown",
      "source": [],
      "metadata": {
        "id": "e6vIu9HfWULv"
      }
    },
    {
      "cell_type": "code",
      "source": [
        "df.hist()"
      ],
      "metadata": {
        "id": "7khNXaJaTSrD",
        "colab": {
          "base_uri": "https://localhost:8080/",
          "height": 643
        },
        "outputId": "6e29fc51-9a92-42be-ac70-ba834223f126"
      },
      "execution_count": 18,
      "outputs": [
        {
          "output_type": "execute_result",
          "data": {
            "text/plain": [
              "array([[<Axes: title={'center': 'Id'}>,\n",
              "        <Axes: title={'center': 'Score'}>,\n",
              "        <Axes: title={'center': 'Idade'}>],\n",
              "       [<Axes: title={'center': 'Patrimonio'}>,\n",
              "        <Axes: title={'center': 'Saldo'}>,\n",
              "        <Axes: title={'center': 'Produtos'}>],\n",
              "       [<Axes: title={'center': 'TemCartCredito'}>,\n",
              "        <Axes: title={'center': 'Ativo'}>,\n",
              "        <Axes: title={'center': 'Salario'}>],\n",
              "       [<Axes: title={'center': 'Saiu'}>, <Axes: >, <Axes: >]],\n",
              "      dtype=object)"
            ]
          },
          "metadata": {},
          "execution_count": 18
        },
        {
          "output_type": "display_data",
          "data": {
            "text/plain": [
              "<Figure size 640x480 with 12 Axes>"
            ],
            "image/png": "[encoded data removed]"
          },
          "metadata": {}
        }
      ]
    },
    {
      "cell_type": "markdown",
      "source": [
        "O método isnull() retorna um booleano indicando se o dado é nulo ou não, utilizamos o método sum() para somar os valores true."
      ],
      "metadata": {
        "id": "Wr2csIn3URYT"
      }
    },
    {
      "cell_type": "code",
      "source": [
        "df.isnull().sum()"
      ],
      "metadata": {
        "id": "bozWhnYkTfY1",
        "colab": {
          "base_uri": "https://localhost:8080/"
        },
        "outputId": "49554774-c9ed-40c2-ff6e-0157700848db"
      },
      "execution_count": 19,
      "outputs": [
        {
          "output_type": "execute_result",
          "data": {
            "text/plain": [
              "Id                0\n",
              "Score             0\n",
              "Estado            0\n",
              "Genero            8\n",
              "Idade             0\n",
              "Patrimonio        0\n",
              "Saldo             0\n",
              "Produtos          0\n",
              "TemCartCredito    0\n",
              "Ativo             0\n",
              "Salario           7\n",
              "Saiu              0\n",
              "dtype: int64"
            ]
          },
          "metadata": {},
          "execution_count": 19
        }
      ]
    },
    {
      "cell_type": "markdown",
      "source": [
        "##Faça uma análise\n",
        "Analise os dados da tabela acima, citando quais colunas do dataframe possuem valores nulos e o que isso poderia representar como resultado."
      ],
      "metadata": {
        "id": "Slitq1IFGqdR"
      }
    },
    {
      "cell_type": "markdown",
      "source": [
        "O método groupby() permite realizar agrupamentos, mas atenção, sempre que utilizar um agrupamento deve ser utilizada uma função de grupo como soma, média, mediana, contagem."
      ],
      "metadata": {
        "id": "oilJEwyeS7ae"
      }
    },
    {
      "cell_type": "code",
      "source": [
        "df.groupby('Estado').size()"
      ],
      "metadata": {
        "id": "G8LowswvA9aP",
        "colab": {
          "base_uri": "https://localhost:8080/"
        },
        "outputId": "e08fb6e4-dffa-4aae-ea8a-774ca1c3442a"
      },
      "execution_count": 20,
      "outputs": [
        {
          "output_type": "execute_result",
          "data": {
            "text/plain": [
              "Estado\n",
              "PR    257\n",
              "RP      1\n",
              "RS    478\n",
              "SC    258\n",
              "SP      4\n",
              "TD      1\n",
              "dtype: int64"
            ]
          },
          "metadata": {},
          "execution_count": 20
        }
      ]
    },
    {
      "cell_type": "markdown",
      "source": [
        "##Execute o código abaixo e responda:\n",
        "###Pela sua percepção, o que faz o método corr()? "
      ],
      "metadata": {
        "id": "4FTPcEeanYh0"
      }
    },
    {
      "cell_type": "markdown",
      "source": [
        "ele e usado para calcular a matriz de correlação entre as colunas de um conjunto de dados."
      ],
      "metadata": {
        "id": "5QdyXLEobIw6"
      }
    },
    {
      "cell_type": "code",
      "source": [
        "df.corr()"
      ],
      "metadata": {
        "id": "_SvUEJxnmdFE",
        "colab": {
          "base_uri": "https://localhost:8080/",
          "height": 462
        },
        "outputId": "7f935c40-dbf1-43b5-f15a-7340c22d8ed6"
      },
      "execution_count": 15,
      "outputs": [
        {
          "output_type": "stream",
          "name": "stderr",
          "text": [
            "<ipython-input-15-2f6f6606aa2c>:1: FutureWarning: The default value of numeric_only in DataFrame.corr is deprecated. In a future version, it will default to False. Select only valid columns or specify the value of numeric_only to silence this warning.\n",
            "  df.corr()\n"
          ]
        },
        {
          "output_type": "execute_result",
          "data": {
            "text/plain": [
              "                      Id     Score     Idade  Patrimonio     Saldo  Produtos  \\\n",
              "Id              1.000000  0.021888  0.046564   -0.013243  0.067955 -0.029920   \n",
              "Score           0.021888  1.000000 -0.029669   -0.007836  0.058406 -0.001722   \n",
              "Idade           0.046564 -0.029669  1.000000   -0.033718 -0.030313 -0.046209   \n",
              "Patrimonio     -0.013243 -0.007836 -0.033718    1.000000 -0.056970  0.064772   \n",
              "Saldo           0.067955  0.058406 -0.030313   -0.056970  1.000000 -0.275056   \n",
              "Produtos       -0.029920 -0.001722 -0.046209    0.064772 -0.275056  1.000000   \n",
              "TemCartCredito -0.006245  0.002021 -0.009770    0.043793  0.031670 -0.006188   \n",
              "Ativo           0.026930  0.038565  0.096009   -0.056902 -0.011121  0.027905   \n",
              "Salario        -0.074595 -0.062990 -0.019840   -0.005045 -0.003298  0.077088   \n",
              "Saiu           -0.007278 -0.067101  0.247915   -0.058677  0.108791 -0.055851   \n",
              "\n",
              "                TemCartCredito     Ativo   Salario      Saiu  \n",
              "Id                   -0.006245  0.026930 -0.074595 -0.007278  \n",
              "Score                 0.002021  0.038565 -0.062990 -0.067101  \n",
              "Idade                -0.009770  0.096009 -0.019840  0.247915  \n",
              "Patrimonio            0.043793 -0.056902 -0.005045 -0.058677  \n",
              "Saldo                 0.031670 -0.011121 -0.003298  0.108791  \n",
              "Produtos             -0.006188  0.027905  0.077088 -0.055851  \n",
              "TemCartCredito        1.000000 -0.020484  0.026681  0.001912  \n",
              "Ativo                -0.020484  1.000000 -0.046446 -0.211145  \n",
              "Salario               0.026681 -0.046446  1.000000  0.031331  \n",
              "Saiu                  0.001912 -0.211145  0.031331  1.000000  "
            ],
            "text/html": [
              "\n",
              "  <div id=\"df-a60930b0-8126-42b2-9177-b4d49a1e26b9\">\n",
              "    <div class=\"colab-df-container\">\n",
              "      <div>\n",
              "<style scoped>\n",
              "    .dataframe tbody tr th:only-of-type {\n",
              "        vertical-align: middle;\n",
              "    }\n",
              "\n",
              "    .dataframe tbody tr th {\n",
              "        vertical-align: top;\n",
              "    }\n",
              "\n",
              "    .dataframe thead th {\n",
              "        text-align: right;\n",
              "    }\n",
              "</style>\n",
              "<table border=\"1\" class=\"dataframe\">\n",
              "  <thead>\n",
              "    <tr style=\"text-align: right;\">\n",
              "      <th></th>\n",
              "      <th>Id</th>\n",
              "      <th>Score</th>\n",
              "      <th>Idade</th>\n",
              "      <th>Patrimonio</th>\n",
              "      <th>Saldo</th>\n",
              "      <th>Produtos</th>\n",
              "      <th>TemCartCredito</th>\n",
              "      <th>Ativo</th>\n",
              "      <th>Salario</th>\n",
              "      <th>Saiu</th>\n",
              "    </tr>\n",
              "  </thead>\n",
              "  <tbody>\n",
              "    <tr>\n",
              "      <th>Id</th>\n",
              "      <td>1.000000</td>\n",
              "      <td>0.021888</td>\n",
              "      <td>0.046564</td>\n",
              "      <td>-0.013243</td>\n",
              "      <td>0.067955</td>\n",
              "      <td>-0.029920</td>\n",
              "      <td>-0.006245</td>\n",
              "      <td>0.026930</td>\n",
              "      <td>-0.074595</td>\n",
              "      <td>-0.007278</td>\n",
              "    </tr>\n",
              "    <tr>\n",
              "      <th>Score</th>\n",
              "      <td>0.021888</td>\n",
              "      <td>1.000000</td>\n",
              "      <td>-0.029669</td>\n",
              "      <td>-0.007836</td>\n",
              "      <td>0.058406</td>\n",
              "      <td>-0.001722</td>\n",
              "      <td>0.002021</td>\n",
              "      <td>0.038565</td>\n",
              "      <td>-0.062990</td>\n",
              "      <td>-0.067101</td>\n",
              "    </tr>\n",
              "    <tr>\n",
              "      <th>Idade</th>\n",
              "      <td>0.046564</td>\n",
              "      <td>-0.029669</td>\n",
              "      <td>1.000000</td>\n",
              "      <td>-0.033718</td>\n",
              "      <td>-0.030313</td>\n",
              "      <td>-0.046209</td>\n",
              "      <td>-0.009770</td>\n",
              "      <td>0.096009</td>\n",
              "      <td>-0.019840</td>\n",
              "      <td>0.247915</td>\n",
              "    </tr>\n",
              "    <tr>\n",
              "      <th>Patrimonio</th>\n",
              "      <td>-0.013243</td>\n",
              "      <td>-0.007836</td>\n",
              "      <td>-0.033718</td>\n",
              "      <td>1.000000</td>\n",
              "      <td>-0.056970</td>\n",
              "      <td>0.064772</td>\n",
              "      <td>0.043793</td>\n",
              "      <td>-0.056902</td>\n",
              "      <td>-0.005045</td>\n",
              "      <td>-0.058677</td>\n",
              "    </tr>\n",
              "    <tr>\n",
              "      <th>Saldo</th>\n",
              "      <td>0.067955</td>\n",
              "      <td>0.058406</td>\n",
              "      <td>-0.030313</td>\n",
              "      <td>-0.056970</td>\n",
              "      <td>1.000000</td>\n",
              "      <td>-0.275056</td>\n",
              "      <td>0.031670</td>\n",
              "      <td>-0.011121</td>\n",
              "      <td>-0.003298</td>\n",
              "      <td>0.108791</td>\n",
              "    </tr>\n",
              "    <tr>\n",
              "      <th>Produtos</th>\n",
              "      <td>-0.029920</td>\n",
              "      <td>-0.001722</td>\n",
              "      <td>-0.046209</td>\n",
              "      <td>0.064772</td>\n",
              "      <td>-0.275056</td>\n",
              "      <td>1.000000</td>\n",
              "      <td>-0.006188</td>\n",
              "      <td>0.027905</td>\n",
              "      <td>0.077088</td>\n",
              "      <td>-0.055851</td>\n",
              "    </tr>\n",
              "    <tr>\n",
              "      <th>TemCartCredito</th>\n",
              "      <td>-0.006245</td>\n",
              "      <td>0.002021</td>\n",
              "      <td>-0.009770</td>\n",
              "      <td>0.043793</td>\n",
              "      <td>0.031670</td>\n",
              "      <td>-0.006188</td>\n",
              "      <td>1.000000</td>\n",
              "      <td>-0.020484</td>\n",
              "      <td>0.026681</td>\n",
              "      <td>0.001912</td>\n",
              "    </tr>\n",
              "    <tr>\n",
              "      <th>Ativo</th>\n",
              "      <td>0.026930</td>\n",
              "      <td>0.038565</td>\n",
              "      <td>0.096009</td>\n",
              "      <td>-0.056902</td>\n",
              "      <td>-0.011121</td>\n",
              "      <td>0.027905</td>\n",
              "      <td>-0.020484</td>\n",
              "      <td>1.000000</td>\n",
              "      <td>-0.046446</td>\n",
              "      <td>-0.211145</td>\n",
              "    </tr>\n",
              "    <tr>\n",
              "      <th>Salario</th>\n",
              "      <td>-0.074595</td>\n",
              "      <td>-0.062990</td>\n",
              "      <td>-0.019840</td>\n",
              "      <td>-0.005045</td>\n",
              "      <td>-0.003298</td>\n",
              "      <td>0.077088</td>\n",
              "      <td>0.026681</td>\n",
              "      <td>-0.046446</td>\n",
              "      <td>1.000000</td>\n",
              "      <td>0.031331</td>\n",
              "    </tr>\n",
              "    <tr>\n",
              "      <th>Saiu</th>\n",
              "      <td>-0.007278</td>\n",
              "      <td>-0.067101</td>\n",
              "      <td>0.247915</td>\n",
              "      <td>-0.058677</td>\n",
              "      <td>0.108791</td>\n",
              "      <td>-0.055851</td>\n",
              "      <td>0.001912</td>\n",
              "      <td>-0.211145</td>\n",
              "      <td>0.031331</td>\n",
              "      <td>1.000000</td>\n",
              "    </tr>\n",
              "  </tbody>\n",
              "</table>\n",
              "</div>\n",
              "      <button class=\"colab-df-convert\" onclick=\"convertToInteractive('df-a60930b0-8126-42b2-9177-b4d49a1e26b9')\"\n",
              "              title=\"Convert this dataframe to an interactive table.\"\n",
              "              style=\"display:none;\">\n",
              "        \n",
              "  <svg xmlns=\"http://www.w3.org/2000/svg\" height=\"24px\"viewBox=\"0 0 24 24\"\n",
              "       width=\"24px\">\n",
              "    <path d=\"M0 0h24v24H0V0z\" fill=\"none\"/>\n",
              "    <path d=\"M18.56 5.44l.94 2.06.94-2.06 2.06-.94-2.06-.94-.94-2.06-.94 2.06-2.06.94zm-11 1L8.5 8.5l.94-2.06 2.06-.94-2.06-.94L8.5 2.5l-.94 2.06-2.06.94zm10 10l.94 2.06.94-2.06 2.06-.94-2.06-.94-.94-2.06-.94 2.06-2.06.94z\"/><path d=\"M17.41 7.96l-1.37-1.37c-.4-.4-.92-.59-1.43-.59-.52 0-1.04.2-1.43.59L10.3 9.45l-7.72 7.72c-.78.78-.78 2.05 0 2.83L4 21.41c.39.39.9.59 1.41.59.51 0 1.02-.2 1.41-.59l7.78-7.78 2.81-2.81c.8-.78.8-2.07 0-2.86zM5.41 20L4 18.59l7.72-7.72 1.47 1.35L5.41 20z\"/>\n",
              "  </svg>\n",
              "      </button>\n",
              "      \n",
              "  <style>\n",
              "    .colab-df-container {\n",
              "      display:flex;\n",
              "      flex-wrap:wrap;\n",
              "      gap: 12px;\n",
              "    }\n",
              "\n",
              "    .colab-df-convert {\n",
              "      background-color: #E8F0FE;\n",
              "      border: none;\n",
              "      border-radius: 50%;\n",
              "      cursor: pointer;\n",
              "      display: none;\n",
              "      fill: #1967D2;\n",
              "      height: 32px;\n",
              "      padding: 0 0 0 0;\n",
              "      width: 32px;\n",
              "    }\n",
              "\n",
              "    .colab-df-convert:hover {\n",
              "      background-color: #E2EBFA;\n",
              "      box-shadow: 0px 1px 2px rgba(60, 64, 67, 0.3), 0px 1px 3px 1px rgba(60, 64, 67, 0.15);\n",
              "      fill: #174EA6;\n",
              "    }\n",
              "\n",
              "    [theme=dark] .colab-df-convert {\n",
              "      background-color: #3B4455;\n",
              "      fill: #D2E3FC;\n",
              "    }\n",
              "\n",
              "    [theme=dark] .colab-df-convert:hover {\n",
              "      background-color: #434B5C;\n",
              "      box-shadow: 0px 1px 3px 1px rgba(0, 0, 0, 0.15);\n",
              "      filter: drop-shadow(0px 1px 2px rgba(0, 0, 0, 0.3));\n",
              "      fill: #FFFFFF;\n",
              "    }\n",
              "  </style>\n",
              "\n",
              "      <script>\n",
              "        const buttonEl =\n",
              "          document.querySelector('#df-a60930b0-8126-42b2-9177-b4d49a1e26b9 button.colab-df-convert');\n",
              "        buttonEl.style.display =\n",
              "          google.colab.kernel.accessAllowed ? 'block' : 'none';\n",
              "\n",
              "        async function convertToInteractive(key) {\n",
              "          const element = document.querySelector('#df-a60930b0-8126-42b2-9177-b4d49a1e26b9');\n",
              "          const dataTable =\n",
              "            await google.colab.kernel.invokeFunction('convertToInteractive',\n",
              "                                                     [key], {});\n",
              "          if (!dataTable) return;\n",
              "\n",
              "          const docLinkHtml = 'Like what you see? Visit the ' +\n",
              "            '<a target=\"_blank\" href=https://colab.research.google.com/notebooks/data_table.ipynb>data table notebook</a>'\n",
              "            + ' to learn more about interactive tables.';\n",
              "          element.innerHTML = '';\n",
              "          dataTable['output_type'] = 'display_data';\n",
              "          await google.colab.output.renderOutput(dataTable, element);\n",
              "          const docLink = document.createElement('div');\n",
              "          docLink.innerHTML = docLinkHtml;\n",
              "          element.appendChild(docLink);\n",
              "        }\n",
              "      </script>\n",
              "    </div>\n",
              "  </div>\n",
              "  "
            ]
          },
          "metadata": {},
          "execution_count": 15
        }
      ]
    },
    {
      "cell_type": "markdown",
      "source": [
        "A propriedade plot, permite exibir gráficos."
      ],
      "metadata": {
        "id": "yj59RVKhVGI8"
      }
    },
    {
      "cell_type": "code",
      "source": [
        "df['Estado'].value_counts().plot.bar()"
      ],
      "metadata": {
        "id": "ZUi0EVx5FpO0",
        "colab": {
          "base_uri": "https://localhost:8080/",
          "height": 456
        },
        "outputId": "d23cc72c-0702-4080-955d-0aa58cda2499"
      },
      "execution_count": 21,
      "outputs": [
        {
          "output_type": "execute_result",
          "data": {
            "text/plain": [
              "<Axes: >"
            ]
          },
          "metadata": {},
          "execution_count": 21
        },
        {
          "output_type": "display_data",
          "data": {
            "text/plain": [
              "<Figure size 640x480 with 1 Axes>"
            ],
            "image/png": "[encoded data removed]"
          },
          "metadata": {}
        }
      ]
    },
    {
      "cell_type": "markdown",
      "source": [
        "Agora considere o seguinte: Na regra de negócio do banco digital, são aceitos apenas clientes da região sul. Verifique que o DataFrame tem estados inválidos como \"TD\" e \"SP\". Então precisaremos realizar uma limpeza desses dados.\n",
        "Abaixo listamos os dados estatísticos para buscar pelo estado que mais se repete (Moda). A moda pode ser identificada como \"top\".\n",
        " "
      ],
      "metadata": {
        "id": "cmUvc_VRVVuB"
      }
    },
    {
      "cell_type": "code",
      "source": [
        "df['Estado'].describe()"
      ],
      "metadata": {
        "id": "p2XsUFvhMbCg",
        "colab": {
          "base_uri": "https://localhost:8080/"
        },
        "outputId": "690957bb-bcca-4d53-86bc-a64c9c39dd5e"
      },
      "execution_count": 24,
      "outputs": [
        {
          "output_type": "execute_result",
          "data": {
            "text/plain": [
              "count     999\n",
              "unique      3\n",
              "top        RS\n",
              "freq      484\n",
              "Name: Estado, dtype: object"
            ]
          },
          "metadata": {},
          "execution_count": 24
        }
      ]
    },
    {
      "cell_type": "markdown",
      "source": [
        "Então realizamos a substituição de qualquer estado que estiver fora do domínio (Região Sul) para ser substituído pela moda \"RS\"."
      ],
      "metadata": {
        "id": "ElhfNJf1WbOr"
      }
    },
    {
      "cell_type": "code",
      "source": [
        "estadosDoSul = ['RS','SC','PR']\n",
        "estadosValidos = df['Estado'].isin(estadosDoSul) #Retorna um DataFrame de Booleanos caso o estado combine com o array estadosDoSul\n",
        "df.loc[~estadosValidos,'Estado'] = 'RS' # O ~ indica negação, ou seja o método ira localizar os estados que não sejam válidos."
      ],
      "metadata": {
        "id": "xuLqHnE1NGBi"
      },
      "execution_count": 22,
      "outputs": []
    },
    {
      "cell_type": "code",
      "source": [
        "df['Estado'].value_counts().plot.bar()"
      ],
      "metadata": {
        "colab": {
          "base_uri": "https://localhost:8080/",
          "height": 451
        },
        "id": "d3-_DhwoBg--",
        "outputId": "3bb94160-e710-4646-f842-0809afce688e"
      },
      "execution_count": 23,
      "outputs": [
        {
          "output_type": "execute_result",
          "data": {
            "text/plain": [
              "<Axes: >"
            ]
          },
          "metadata": {},
          "execution_count": 23
        },
        {
          "output_type": "display_data",
          "data": {
            "text/plain": [
              "<Figure size 640x480 with 1 Axes>"
            ],
            "image/png": "[encoded data removed]"
          },
          "metadata": {}
        }
      ]
    },
    {
      "cell_type": "markdown",
      "source": [
        "Observe que temos 7 salários sem valor, iremos preenche-los com a média salarial."
      ],
      "metadata": {
        "id": "ePMzbkeSWiRN"
      }
    },
    {
      "cell_type": "code",
      "source": [
        "df['Salario'].isnull().sum()"
      ],
      "metadata": {
        "id": "dWkSa8g5XDpk",
        "colab": {
          "base_uri": "https://localhost:8080/"
        },
        "outputId": "c06d8ec9-d4eb-479b-96d1-909fbaf16fce"
      },
      "execution_count": null,
      "outputs": [
        {
          "output_type": "execute_result",
          "data": {
            "text/plain": [
              "7"
            ]
          },
          "metadata": {},
          "execution_count": 64
        }
      ]
    },
    {
      "cell_type": "markdown",
      "source": [
        "O método mean() exibe a média."
      ],
      "metadata": {
        "id": "vmHlVSV0Y-rm"
      }
    },
    {
      "cell_type": "code",
      "source": [
        "mediaSalarial = df['Salario'].mean()\n",
        "mediaSalarial\n"
      ],
      "metadata": {
        "id": "BF2Rj5TwXZw5",
        "colab": {
          "base_uri": "https://localhost:8080/"
        },
        "outputId": "cead0475-54e9-4995-ed67-649e2b4a2a1f"
      },
      "execution_count": null,
      "outputs": [
        {
          "output_type": "execute_result",
          "data": {
            "text/plain": [
              "35287620.25100806"
            ]
          },
          "metadata": {},
          "execution_count": 65
        }
      ]
    },
    {
      "cell_type": "markdown",
      "source": [
        "Utilizamos a propriedade loc para buscar pelos valores de salário nulos. Em seguida atribuimos a média salarial a eles."
      ],
      "metadata": {
        "id": "_GG-h-IxZAhO"
      }
    },
    {
      "cell_type": "code",
      "source": [
        "df.loc[df['Salario'].isnull(), 'Salario'] = mediaSalarial;"
      ],
      "metadata": {
        "id": "_JeDQ1FHXHEo"
      },
      "execution_count": null,
      "outputs": []
    },
    {
      "cell_type": "markdown",
      "source": [
        "###Faça uma análise descritiva da coluna Gênero, encontre os problemas e realize a higienização dos dados."
      ],
      "metadata": {
        "id": "jzf68BgNZdyv"
      }
    },
    {
      "cell_type": "markdown",
      "source": [
        "para higienizar esse codigo podemos deixar apenas dois campos . masculino ou feminino.\n"
      ],
      "metadata": {
        "id": "iJTe8zAnVMaa"
      }
    },
    {
      "cell_type": "code",
      "source": [
        "df['Genero'].value_counts().plot.bar()"
      ],
      "metadata": {
        "colab": {
          "base_uri": "https://localhost:8080/",
          "height": 502
        },
        "id": "qHjNUlni5g87",
        "outputId": "55265f95-2266-4616-844a-308e5cfe88b8"
      },
      "execution_count": null,
      "outputs": [
        {
          "output_type": "execute_result",
          "data": {
            "text/plain": [
              "<Axes: >"
            ]
          },
          "metadata": {},
          "execution_count": 23
        },
        {
          "output_type": "display_data",
          "data": {
            "text/plain": [
              "<Figure size 640x480 with 1 Axes>"
            ],
            "image/png": "[encoded data removed]"
          },
          "metadata": {}
        }
      ]
    },
    {
      "cell_type": "markdown",
      "source": [
        "##Faça uma análise descritiva da coluna Idade, encontre os problemas e faça a higienização dos dados."
      ],
      "metadata": {
        "id": "AgaGQ9zCI4Z2"
      }
    },
    {
      "cell_type": "markdown",
      "source": [
        "para higienizar esses dados, podemos abordar algumas abordagens como: descartar valores negativos, ou transformar valores negativos em positivos. assumindo que foram erro de registro de dados."
      ],
      "metadata": {
        "id": "XYbQgicHT_cF"
      }
    },
    {
      "cell_type": "code",
      "source": [
        "df['Idade'].describe()"
      ],
      "metadata": {
        "colab": {
          "base_uri": "https://localhost:8080/"
        },
        "id": "kmM97Hiw7Oxu",
        "outputId": "9260a07f-b6e3-446c-85d6-8afac74f76a0"
      },
      "execution_count": 26,
      "outputs": [
        {
          "output_type": "execute_result",
          "data": {
            "text/plain": [
              "count    999.000000\n",
              "mean      38.902903\n",
              "std       11.401912\n",
              "min      -20.000000\n",
              "25%       32.000000\n",
              "50%       37.000000\n",
              "75%       44.000000\n",
              "max      140.000000\n",
              "Name: Idade, dtype: float64"
            ]
          },
          "metadata": {},
          "execution_count": 26
        }
      ]
    }
  ]
}